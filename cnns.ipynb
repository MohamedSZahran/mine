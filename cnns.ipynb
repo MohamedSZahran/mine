{
  "nbformat": 4,
  "nbformat_minor": 0,
  "metadata": {
    "colab": {
      "name": "cnns.ipynb",
      "version": "0.3.2",
      "provenance": [],
      "collapsed_sections": [],
      "include_colab_link": true
    },
    "kernelspec": {
      "name": "python3",
      "display_name": "Python 3"
    },
    "accelerator": "GPU"
  },
  "cells": [
    {
      "cell_type": "markdown",
      "metadata": {
        "id": "view-in-github",
        "colab_type": "text"
      },
      "source": [
        "<a href=\"https://colab.research.google.com/github/MohamedSZahran/mine/blob/master/cnns.ipynb\" target=\"_parent\"><img src=\"https://colab.research.google.com/assets/colab-badge.svg\" alt=\"Open In Colab\"/></a>"
      ]
    },
    {
      "cell_type": "code",
      "metadata": {
        "id": "TPztFyj8sZSr",
        "colab_type": "code",
        "colab": {}
      },
      "source": [
        "import tensorflow as tf\n",
        "import matplotlib.pyplot as plt\n",
        "import numpy as np"
      ],
      "execution_count": 0,
      "outputs": []
    },
    {
      "cell_type": "code",
      "metadata": {
        "id": "6KILwyBcsk1V",
        "colab_type": "code",
        "colab": {}
      },
      "source": [
        "from tensorflow.examples.tutorials.mnist import input_data"
      ],
      "execution_count": 0,
      "outputs": []
    },
    {
      "cell_type": "code",
      "metadata": {
        "id": "wrorknx8y9_o",
        "colab_type": "code",
        "colab": {}
      },
      "source": [
        ""
      ],
      "execution_count": 0,
      "outputs": []
    },
    {
      "cell_type": "code",
      "metadata": {
        "id": "2WWlqJbmy-pF",
        "colab_type": "code",
        "colab": {}
      },
      "source": [
        ""
      ],
      "execution_count": 0,
      "outputs": []
    },
    {
      "cell_type": "code",
      "metadata": {
        "id": "NjIJhP-7y-uP",
        "colab_type": "code",
        "colab": {}
      },
      "source": [
        ""
      ],
      "execution_count": 0,
      "outputs": []
    },
    {
      "cell_type": "code",
      "metadata": {
        "id": "0iGULzFnsxAU",
        "colab_type": "code",
        "colab": {}
      },
      "source": [
        "img_h=28\n",
        "img_w = 28\n",
        "img_size_flat = img_h * img_w\n",
        "n_classes = 10\n",
        "n_channels = 1"
      ],
      "execution_count": 0,
      "outputs": []
    },
    {
      "cell_type": "code",
      "metadata": {
        "id": "gKBOVEgMs9M-",
        "colab_type": "code",
        "colab": {}
      },
      "source": [
        "def load_data(mode='train'):\n",
        "  mnist = input_data.read_data_sets(\"MNIST_data/\", one_hot=True)\n",
        "  if mode == 'train':\n",
        "        x_train, y_train, x_valid, y_valid = mnist.train.images, mnist.train.labels, \\\n",
        "                                             mnist.validation.images, mnist.validation.labels\n",
        "        x_train, _ = reformat(x_train, y_train)\n",
        "        x_valid, _ = reformat(x_valid, y_valid)\n",
        "        return x_train, y_train, x_valid, y_valid\n",
        "  elif mode == 'test':\n",
        "        x_test, y_test = mnist.test.images, mnist.test.labels\n",
        "        x_test, _ = reformat(x_test, y_test)\n",
        "  return x_test, y_test"
      ],
      "execution_count": 0,
      "outputs": []
    },
    {
      "cell_type": "code",
      "metadata": {
        "id": "54EZMIkEtV3u",
        "colab_type": "code",
        "colab": {}
      },
      "source": [
        "def reformat(x,y):\n",
        "    img_size, num_ch, num_class = int(np.sqrt(x.shape[-1])), 1, len(np.unique(np.argmax(y, 1)))\n",
        "    dataset = x.reshape((-1, img_size, img_size, num_ch)).astype(np.float32)\n",
        "    labels = (np.arange(num_class) == y[:, None]).astype(np.float32)\n",
        "    return dataset, labels"
      ],
      "execution_count": 0,
      "outputs": []
    },
    {
      "cell_type": "code",
      "metadata": {
        "id": "kquYCtvvtxIP",
        "colab_type": "code",
        "colab": {}
      },
      "source": [
        "def randomize(x, y):\n",
        "    \"\"\" Randomizes the order of data samples and their corresponding labels\"\"\"\n",
        "    permutation = np.random.permutation(y.shape[0])\n",
        "    shuffled_x = x[permutation, :, :, :]\n",
        "    shuffled_y = y[permutation]\n",
        "    return shuffled_x, shuffled_y\n"
      ],
      "execution_count": 0,
      "outputs": []
    },
    {
      "cell_type": "code",
      "metadata": {
        "id": "jqRIRLpqtz64",
        "colab_type": "code",
        "colab": {}
      },
      "source": [
        "def get_next_batch(x, y, start, end):\n",
        "    x_batch = x[start:end]\n",
        "    y_batch = y[start:end]\n",
        "    return x_batch, y_batch"
      ],
      "execution_count": 0,
      "outputs": []
    },
    {
      "cell_type": "code",
      "metadata": {
        "id": "2F61P_K_t2Bt",
        "colab_type": "code",
        "colab": {
          "base_uri": "https://localhost:8080/",
          "height": 618
        },
        "outputId": "ffcb9967-e174-435e-d0b6-d4c27974b663"
      },
      "source": [
        "x_train, y_train, x_valid, y_valid = load_data(mode='train')\n",
        "print(\"Size of:\")\n",
        "print(\"- Training-set:\\t\\t{}\".format(len(y_train)))\n",
        "print(\"- Validation-set:\\t{}\".format(len(y_valid)))"
      ],
      "execution_count": 12,
      "outputs": [
        {
          "output_type": "stream",
          "text": [
            "WARNING: Logging before flag parsing goes to stderr.\n",
            "W0711 06:28:26.108873 140126638651264 deprecation.py:323] From <ipython-input-8-1949b3efe328>:2: read_data_sets (from tensorflow.contrib.learn.python.learn.datasets.mnist) is deprecated and will be removed in a future version.\n",
            "Instructions for updating:\n",
            "Please use alternatives such as official/mnist/dataset.py from tensorflow/models.\n",
            "W0711 06:28:26.112580 140126638651264 deprecation.py:323] From /usr/local/lib/python3.6/dist-packages/tensorflow/contrib/learn/python/learn/datasets/mnist.py:260: maybe_download (from tensorflow.contrib.learn.python.learn.datasets.base) is deprecated and will be removed in a future version.\n",
            "Instructions for updating:\n",
            "Please write your own downloading logic.\n",
            "W0711 06:28:26.115538 140126638651264 deprecation.py:323] From /usr/local/lib/python3.6/dist-packages/tensorflow/contrib/learn/python/learn/datasets/base.py:252: _internal_retry.<locals>.wrap.<locals>.wrapped_fn (from tensorflow.contrib.learn.python.learn.datasets.base) is deprecated and will be removed in a future version.\n",
            "Instructions for updating:\n",
            "Please use urllib or similar directly.\n",
            "W0711 06:28:26.206369 140126638651264 deprecation.py:323] From /usr/local/lib/python3.6/dist-packages/tensorflow/contrib/learn/python/learn/datasets/mnist.py:262: extract_images (from tensorflow.contrib.learn.python.learn.datasets.mnist) is deprecated and will be removed in a future version.\n",
            "Instructions for updating:\n",
            "Please use tf.data to implement this functionality.\n"
          ],
          "name": "stderr"
        },
        {
          "output_type": "stream",
          "text": [
            "Successfully downloaded train-images-idx3-ubyte.gz 9912422 bytes.\n",
            "Extracting MNIST_data/train-images-idx3-ubyte.gz\n"
          ],
          "name": "stdout"
        },
        {
          "output_type": "stream",
          "text": [
            "W0711 06:28:26.461709 140126638651264 deprecation.py:323] From /usr/local/lib/python3.6/dist-packages/tensorflow/contrib/learn/python/learn/datasets/mnist.py:267: extract_labels (from tensorflow.contrib.learn.python.learn.datasets.mnist) is deprecated and will be removed in a future version.\n",
            "Instructions for updating:\n",
            "Please use tf.data to implement this functionality.\n",
            "W0711 06:28:26.464178 140126638651264 deprecation.py:323] From /usr/local/lib/python3.6/dist-packages/tensorflow/contrib/learn/python/learn/datasets/mnist.py:110: dense_to_one_hot (from tensorflow.contrib.learn.python.learn.datasets.mnist) is deprecated and will be removed in a future version.\n",
            "Instructions for updating:\n",
            "Please use tf.one_hot on tensors.\n",
            "W0711 06:28:26.539475 140126638651264 deprecation.py:323] From /usr/local/lib/python3.6/dist-packages/tensorflow/contrib/learn/python/learn/datasets/mnist.py:290: DataSet.__init__ (from tensorflow.contrib.learn.python.learn.datasets.mnist) is deprecated and will be removed in a future version.\n",
            "Instructions for updating:\n",
            "Please use alternatives such as official/mnist/dataset.py from tensorflow/models.\n"
          ],
          "name": "stderr"
        },
        {
          "output_type": "stream",
          "text": [
            "Successfully downloaded train-labels-idx1-ubyte.gz 28881 bytes.\n",
            "Extracting MNIST_data/train-labels-idx1-ubyte.gz\n",
            "Successfully downloaded t10k-images-idx3-ubyte.gz 1648877 bytes.\n",
            "Extracting MNIST_data/t10k-images-idx3-ubyte.gz\n",
            "Successfully downloaded t10k-labels-idx1-ubyte.gz 4542 bytes.\n",
            "Extracting MNIST_data/t10k-labels-idx1-ubyte.gz\n",
            "Size of:\n",
            "- Training-set:\t\t55000\n",
            "- Validation-set:\t5000\n"
          ],
          "name": "stdout"
        }
      ]
    },
    {
      "cell_type": "code",
      "metadata": {
        "id": "f1U2F292uAIw",
        "colab_type": "code",
        "colab": {}
      },
      "source": [
        "logs_path = \"./logs\"  # path to the folder that we want to save the logs for Tensorboard\n",
        "lr = 0.001  # The optimization initial learning rate\n",
        "epochs = 10  # Total number of training epochs\n",
        "batch_size = 100  # Training batch size\n",
        "display_freq = 100  # Frequency of displaying the training results"
      ],
      "execution_count": 0,
      "outputs": []
    },
    {
      "cell_type": "code",
      "metadata": {
        "id": "maCfMeGduMUg",
        "colab_type": "code",
        "colab": {}
      },
      "source": [
        "# 1st Convolutional Layer\n",
        "filter_size1 = 5  # Convolution filters are 5 x 5 pixels.\n",
        "num_filters1 = 16  # There are 16 of these filters.\n",
        "stride1 = 1  # The stride of the sliding window\n",
        "\n",
        "# 2nd Convolutional Layer\n",
        "filter_size2 = 5  # Convolution filters are 5 x 5 pixels.\n",
        "num_filters2 = 32  # There are 32 of these filters.\n",
        "stride2 = 1  # The stride of the sliding window\n",
        "\n",
        "# Fully-connected layer.\n",
        "h1 = 128  # Number of neurons in fully-connected layer."
      ],
      "execution_count": 0,
      "outputs": []
    },
    {
      "cell_type": "code",
      "metadata": {
        "id": "BLdHYA3BuHr1",
        "colab_type": "code",
        "colab": {}
      },
      "source": [
        "# weight and bais wrappers\n",
        "def weight_variable(shape):\n",
        "    \"\"\"\n",
        "    Create a weight variable with appropriate initialization\n",
        "    :param name: weight name\n",
        "    :param shape: weight shape\n",
        "    :return: initialized weight variable\n",
        "    \"\"\"\n",
        "    initer = tf.truncated_normal_initializer(stddev=0.01)\n",
        "    return tf.get_variable('W',\n",
        "                           dtype=tf.float32,\n",
        "                           shape=shape,\n",
        "                           initializer=initer)\n"
      ],
      "execution_count": 0,
      "outputs": []
    },
    {
      "cell_type": "code",
      "metadata": {
        "id": "ZNuGmcJsuQeZ",
        "colab_type": "code",
        "colab": {}
      },
      "source": [
        "def bias_variable(shape):\n",
        "    \"\"\"\n",
        "    Create a bias variable with appropriate initialization\n",
        "    :param name: bias variable name\n",
        "    :param shape: bias variable shape\n",
        "    :return: initialized bias variable\n",
        "    \"\"\"\n",
        "    initial = tf.constant(0., shape=shape, dtype=tf.float32)\n",
        "    return tf.get_variable('b',\n",
        "                           dtype=tf.float32,\n",
        "                           initializer=initial)"
      ],
      "execution_count": 0,
      "outputs": []
    },
    {
      "cell_type": "code",
      "metadata": {
        "id": "Q7J6IE4kuS_W",
        "colab_type": "code",
        "colab": {}
      },
      "source": [
        "def conv_layer(x, filter_size, num_filters, stride, name):\n",
        "    \"\"\"\n",
        "    Create a 2D convolution layer\n",
        "    :param x: input from previous layer\n",
        "    :param filter_size: size of each filter\n",
        "    :param num_filters: number of filters (or output feature maps)\n",
        "    :param stride: filter stride\n",
        "    :param name: layer name\n",
        "    :return: The output array\n",
        "    \"\"\"\n",
        "    with tf.variable_scope(name):\n",
        "        num_in_channel = x.get_shape().as_list()[-1]\n",
        "        shape = [filter_size, filter_size, num_in_channel, num_filters]\n",
        "        W = weight_variable(shape=shape)\n",
        "        tf.summary.histogram('weight', W)\n",
        "        b = bias_variable(shape=[num_filters])\n",
        "        tf.summary.histogram('bias', b)\n",
        "        layer = tf.nn.conv2d(x, W,\n",
        "                             strides=[1, stride, stride, 1],\n",
        "                             padding=\"SAME\")\n",
        "        layer += b\n",
        "        return tf.nn.relu(layer)"
      ],
      "execution_count": 0,
      "outputs": []
    },
    {
      "cell_type": "code",
      "metadata": {
        "id": "QMRKiivRuWhi",
        "colab_type": "code",
        "colab": {}
      },
      "source": [
        "def max_pool(x, ksize, stride, name):\n",
        "    \"\"\"\n",
        "    Create a max pooling layer\n",
        "    :param x: input to max-pooling layer\n",
        "    :param ksize: size of the max-pooling filter\n",
        "    :param stride: stride of the max-pooling filter\n",
        "    :param name: layer name\n",
        "    :return: The output array\n",
        "    \"\"\"\n",
        "    return tf.nn.max_pool(x,\n",
        "                          ksize=[1, ksize, ksize, 1],\n",
        "                          strides=[1, stride, stride, 1],\n",
        "                          padding=\"SAME\",\n",
        "                          name=name)"
      ],
      "execution_count": 0,
      "outputs": []
    },
    {
      "cell_type": "code",
      "metadata": {
        "id": "FSH04N2BuZU7",
        "colab_type": "code",
        "colab": {}
      },
      "source": [
        "def flatten_layer(layer):\n",
        "    \"\"\"\n",
        "    Flattens the output of the convolutional layer to be fed into fully-connected layer\n",
        "    :param layer: input array\n",
        "    :return: flattened array\n",
        "    \"\"\"\n",
        "    with tf.variable_scope('Flatten_layer'):\n",
        "        layer_shape = layer.get_shape()\n",
        "        num_features = layer_shape[1:4].num_elements()\n",
        "        layer_flat = tf.reshape(layer, [-1, num_features])\n",
        "    return layer_flat"
      ],
      "execution_count": 0,
      "outputs": []
    },
    {
      "cell_type": "code",
      "metadata": {
        "id": "uDlqlA4mudeQ",
        "colab_type": "code",
        "colab": {}
      },
      "source": [
        "def fc_layer(x, num_units, name, use_relu=True):\n",
        "    \"\"\"\n",
        "    Create a fully-connected layer\n",
        "    :param x: input from previous layer\n",
        "    :param num_units: number of hidden units in the fully-connected layer\n",
        "    :param name: layer name\n",
        "    :param use_relu: boolean to add ReLU non-linearity (or not)\n",
        "    :return: The output array\n",
        "    \"\"\"\n",
        "    with tf.variable_scope(name):\n",
        "        in_dim = x.get_shape()[1]\n",
        "        W = weight_variable(shape=[in_dim, num_units])\n",
        "        tf.summary.histogram('weight', W)\n",
        "        b = bias_variable(shape=[num_units])\n",
        "        tf.summary.histogram('bias', b)\n",
        "        layer = tf.matmul(x, W)\n",
        "        layer += b\n",
        "        if use_relu:\n",
        "            layer = tf.nn.relu(layer)\n",
        "        return layer"
      ],
      "execution_count": 0,
      "outputs": []
    },
    {
      "cell_type": "code",
      "metadata": {
        "id": "SCTtjlx7uglK",
        "colab_type": "code",
        "colab": {}
      },
      "source": [
        "with tf.name_scope('Input'):\n",
        "    x = tf.placeholder(tf.float32, shape=[None, img_h, img_w, n_channels], name='X')\n",
        "    y = tf.placeholder(tf.float32, shape=[None, n_classes], name='Y')"
      ],
      "execution_count": 0,
      "outputs": []
    },
    {
      "cell_type": "code",
      "metadata": {
        "id": "cJj-m77DukJA",
        "colab_type": "code",
        "colab": {}
      },
      "source": [
        "conv1 = conv_layer(x, filter_size1, num_filters1, stride1, name='conv1')\n",
        "pool1 = max_pool(conv1, ksize=2, stride=2, name='pool1')\n",
        "conv2 = conv_layer(pool1, filter_size2, num_filters2, stride2, name='conv2')\n",
        "pool2 = max_pool(conv2, ksize=2, stride=2, name='pool2')\n",
        "layer_flat = flatten_layer(pool2)\n",
        "fc1 = fc_layer(layer_flat, h1, 'FC1', use_relu=True)\n",
        "output_logits = fc_layer(fc1, n_classes, 'OUT', use_relu=False)"
      ],
      "execution_count": 0,
      "outputs": []
    },
    {
      "cell_type": "code",
      "metadata": {
        "id": "6V606VR1umbd",
        "colab_type": "code",
        "colab": {
          "base_uri": "https://localhost:8080/",
          "height": 178
        },
        "outputId": "7dd10222-44b3-4c10-e77e-34e050c8920e"
      },
      "source": [
        "with tf.variable_scope('Train'):\n",
        "    with tf.variable_scope('Loss'):\n",
        "        loss = tf.reduce_mean(tf.nn.softmax_cross_entropy_with_logits(labels=y, logits=output_logits), name='loss')\n",
        "    tf.summary.scalar('loss', loss)\n",
        "    with tf.variable_scope('Optimizer'):\n",
        "        optimizer = tf.train.AdamOptimizer(learning_rate=lr, name='Adam-op').minimize(loss)\n",
        "    with tf.variable_scope('Accuracy'):\n",
        "        correct_prediction = tf.equal(tf.argmax(output_logits, 1), tf.argmax(y, 1), name='correct_pred')\n",
        "        accuracy = tf.reduce_mean(tf.cast(correct_prediction, tf.float32), name='accuracy')\n",
        "    tf.summary.scalar('accuracy', accuracy)\n",
        "    with tf.variable_scope('Prediction'):\n",
        "        cls_prediction = tf.argmax(output_logits, axis=1, name='predictions')"
      ],
      "execution_count": 23,
      "outputs": [
        {
          "output_type": "stream",
          "text": [
            "W0711 06:31:17.408946 140126638651264 deprecation.py:323] From <ipython-input-23-a27d961557ec>:3: softmax_cross_entropy_with_logits (from tensorflow.python.ops.nn_ops) is deprecated and will be removed in a future version.\n",
            "Instructions for updating:\n",
            "\n",
            "Future major versions of TensorFlow will allow gradients to flow\n",
            "into the labels input on backprop by default.\n",
            "\n",
            "See `tf.nn.softmax_cross_entropy_with_logits_v2`.\n",
            "\n"
          ],
          "name": "stderr"
        }
      ]
    },
    {
      "cell_type": "code",
      "metadata": {
        "id": "6rd1j1K9up9n",
        "colab_type": "code",
        "colab": {}
      },
      "source": [
        "# Initialize the variables\n",
        "init = tf.global_variables_initializer()\n",
        "# Merge all summaries\n",
        "merged = tf.summary.merge_all()"
      ],
      "execution_count": 0,
      "outputs": []
    },
    {
      "cell_type": "code",
      "metadata": {
        "id": "_-1gDqQ2uuKV",
        "colab_type": "code",
        "colab": {
          "base_uri": "https://localhost:8080/",
          "height": 1000
        },
        "outputId": "d254e07e-e6fe-44d2-b223-2d4a60e89d11"
      },
      "source": [
        "sess = tf.InteractiveSession()\n",
        "sess.run(init)\n",
        "global_step = 0\n",
        "summary_writer = tf.summary.FileWriter(logs_path, sess.graph)\n",
        "# Number of training iterations in each epoch\n",
        "num_tr_iter = int(len(y_train) / batch_size)\n",
        "for epoch in range(epochs):\n",
        "    print('Training epoch: {}'.format(epoch + 1))\n",
        "    x_train, y_train = randomize(x_train, y_train)\n",
        "    for iteration in range(num_tr_iter):\n",
        "        global_step += 1\n",
        "        start = iteration * batch_size\n",
        "        end = (iteration + 1) * batch_size\n",
        "        x_batch, y_batch = get_next_batch(x_train, y_train, start, end)\n",
        "\n",
        "        # Run optimization op (backprop)\n",
        "        feed_dict_batch = {x: x_batch, y: y_batch}\n",
        "        sess.run(optimizer, feed_dict=feed_dict_batch)\n",
        "\n",
        "        if iteration % display_freq == 0:\n",
        "            # Calculate and display the batch loss and accuracy\n",
        "            loss_batch, acc_batch, summary_tr = sess.run([loss, accuracy, merged],\n",
        "                                                         feed_dict=feed_dict_batch)\n",
        "            summary_writer.add_summary(summary_tr, global_step)\n",
        "\n",
        "            print(\"iter {0:3d}:\\t Loss={1:.2f},\\tTraining Accuracy={2:.01%}\".\n",
        "                  format(iteration, loss_batch, acc_batch))\n",
        "\n",
        "    # Run validation after every epoch\n",
        "    feed_dict_valid = {x: x_valid, y: y_valid}\n",
        "    loss_valid, acc_valid = sess.run([loss, accuracy], feed_dict=feed_dict_valid)\n",
        "    print('---------------------------------------------------------')\n",
        "    print(\"Epoch: {0}, validation loss: {1:.2f}, validation accuracy: {2:.01%}\".\n",
        "          format(epoch + 1, loss_valid, acc_valid))\n",
        "    print('---------------------------------------------------------')"
      ],
      "execution_count": 25,
      "outputs": [
        {
          "output_type": "stream",
          "text": [
            "Training epoch: 1\n",
            "iter   0:\t Loss=2.30,\tTraining Accuracy=19.0%\n",
            "iter 100:\t Loss=0.59,\tTraining Accuracy=82.0%\n",
            "iter 200:\t Loss=0.40,\tTraining Accuracy=85.0%\n",
            "iter 300:\t Loss=0.23,\tTraining Accuracy=92.0%\n",
            "iter 400:\t Loss=0.16,\tTraining Accuracy=97.0%\n",
            "iter 500:\t Loss=0.09,\tTraining Accuracy=96.0%\n",
            "---------------------------------------------------------\n",
            "Epoch: 1, validation loss: 0.10, validation accuracy: 97.2%\n",
            "---------------------------------------------------------\n",
            "Training epoch: 2\n",
            "iter   0:\t Loss=0.08,\tTraining Accuracy=98.0%\n",
            "iter 100:\t Loss=0.21,\tTraining Accuracy=92.0%\n",
            "iter 200:\t Loss=0.12,\tTraining Accuracy=98.0%\n",
            "iter 300:\t Loss=0.05,\tTraining Accuracy=99.0%\n",
            "iter 400:\t Loss=0.08,\tTraining Accuracy=96.0%\n",
            "iter 500:\t Loss=0.11,\tTraining Accuracy=97.0%\n",
            "---------------------------------------------------------\n",
            "Epoch: 2, validation loss: 0.09, validation accuracy: 97.3%\n",
            "---------------------------------------------------------\n",
            "Training epoch: 3\n",
            "iter   0:\t Loss=0.06,\tTraining Accuracy=98.0%\n",
            "iter 100:\t Loss=0.06,\tTraining Accuracy=98.0%\n",
            "iter 200:\t Loss=0.05,\tTraining Accuracy=98.0%\n",
            "iter 300:\t Loss=0.06,\tTraining Accuracy=99.0%\n",
            "iter 400:\t Loss=0.03,\tTraining Accuracy=100.0%\n",
            "iter 500:\t Loss=0.01,\tTraining Accuracy=100.0%\n",
            "---------------------------------------------------------\n",
            "Epoch: 3, validation loss: 0.06, validation accuracy: 98.5%\n",
            "---------------------------------------------------------\n",
            "Training epoch: 4\n",
            "iter   0:\t Loss=0.09,\tTraining Accuracy=96.0%\n",
            "iter 100:\t Loss=0.02,\tTraining Accuracy=100.0%\n",
            "iter 200:\t Loss=0.06,\tTraining Accuracy=98.0%\n",
            "iter 300:\t Loss=0.04,\tTraining Accuracy=99.0%\n",
            "iter 400:\t Loss=0.03,\tTraining Accuracy=99.0%\n",
            "iter 500:\t Loss=0.05,\tTraining Accuracy=98.0%\n",
            "---------------------------------------------------------\n",
            "Epoch: 4, validation loss: 0.06, validation accuracy: 98.2%\n",
            "---------------------------------------------------------\n",
            "Training epoch: 5\n",
            "iter   0:\t Loss=0.03,\tTraining Accuracy=99.0%\n",
            "iter 100:\t Loss=0.01,\tTraining Accuracy=100.0%\n",
            "iter 200:\t Loss=0.02,\tTraining Accuracy=100.0%\n",
            "iter 300:\t Loss=0.11,\tTraining Accuracy=99.0%\n",
            "iter 400:\t Loss=0.02,\tTraining Accuracy=99.0%\n",
            "iter 500:\t Loss=0.03,\tTraining Accuracy=99.0%\n",
            "---------------------------------------------------------\n",
            "Epoch: 5, validation loss: 0.05, validation accuracy: 98.7%\n",
            "---------------------------------------------------------\n",
            "Training epoch: 6\n",
            "iter   0:\t Loss=0.01,\tTraining Accuracy=99.0%\n",
            "iter 100:\t Loss=0.03,\tTraining Accuracy=98.0%\n",
            "iter 200:\t Loss=0.00,\tTraining Accuracy=100.0%\n",
            "iter 300:\t Loss=0.03,\tTraining Accuracy=100.0%\n",
            "iter 400:\t Loss=0.06,\tTraining Accuracy=97.0%\n",
            "iter 500:\t Loss=0.00,\tTraining Accuracy=100.0%\n",
            "---------------------------------------------------------\n",
            "Epoch: 6, validation loss: 0.06, validation accuracy: 98.4%\n",
            "---------------------------------------------------------\n",
            "Training epoch: 7\n",
            "iter   0:\t Loss=0.03,\tTraining Accuracy=98.0%\n",
            "iter 100:\t Loss=0.02,\tTraining Accuracy=100.0%\n",
            "iter 200:\t Loss=0.02,\tTraining Accuracy=100.0%\n",
            "iter 300:\t Loss=0.04,\tTraining Accuracy=98.0%\n",
            "iter 400:\t Loss=0.02,\tTraining Accuracy=100.0%\n",
            "iter 500:\t Loss=0.05,\tTraining Accuracy=98.0%\n",
            "---------------------------------------------------------\n",
            "Epoch: 7, validation loss: 0.04, validation accuracy: 98.9%\n",
            "---------------------------------------------------------\n",
            "Training epoch: 8\n",
            "iter   0:\t Loss=0.00,\tTraining Accuracy=100.0%\n",
            "iter 100:\t Loss=0.01,\tTraining Accuracy=100.0%\n",
            "iter 200:\t Loss=0.08,\tTraining Accuracy=98.0%\n",
            "iter 300:\t Loss=0.08,\tTraining Accuracy=99.0%\n",
            "iter 400:\t Loss=0.02,\tTraining Accuracy=100.0%\n",
            "iter 500:\t Loss=0.01,\tTraining Accuracy=100.0%\n",
            "---------------------------------------------------------\n",
            "Epoch: 8, validation loss: 0.04, validation accuracy: 98.8%\n",
            "---------------------------------------------------------\n",
            "Training epoch: 9\n",
            "iter   0:\t Loss=0.02,\tTraining Accuracy=99.0%\n",
            "iter 100:\t Loss=0.03,\tTraining Accuracy=99.0%\n",
            "iter 200:\t Loss=0.01,\tTraining Accuracy=100.0%\n",
            "iter 300:\t Loss=0.00,\tTraining Accuracy=100.0%\n",
            "iter 400:\t Loss=0.00,\tTraining Accuracy=100.0%\n",
            "iter 500:\t Loss=0.02,\tTraining Accuracy=100.0%\n",
            "---------------------------------------------------------\n",
            "Epoch: 9, validation loss: 0.04, validation accuracy: 98.7%\n",
            "---------------------------------------------------------\n",
            "Training epoch: 10\n",
            "iter   0:\t Loss=0.01,\tTraining Accuracy=100.0%\n",
            "iter 100:\t Loss=0.00,\tTraining Accuracy=100.0%\n",
            "iter 200:\t Loss=0.00,\tTraining Accuracy=100.0%\n",
            "iter 300:\t Loss=0.15,\tTraining Accuracy=98.0%\n",
            "iter 400:\t Loss=0.02,\tTraining Accuracy=99.0%\n",
            "iter 500:\t Loss=0.01,\tTraining Accuracy=100.0%\n",
            "---------------------------------------------------------\n",
            "Epoch: 10, validation loss: 0.04, validation accuracy: 98.9%\n",
            "---------------------------------------------------------\n"
          ],
          "name": "stdout"
        }
      ]
    },
    {
      "cell_type": "code",
      "metadata": {
        "id": "jIqfZNMYuyIg",
        "colab_type": "code",
        "colab": {}
      },
      "source": [
        "def plot_images(images, cls_true, cls_pred=None, title=None):\n",
        "    \"\"\"\n",
        "    Create figure with 3x3 sub-plots.\n",
        "    :param images: array of images to be plotted, (9, img_h*img_w)\n",
        "    :param cls_true: corresponding true labels (9,)\n",
        "    :param cls_pred: corresponding true labels (9,)\n",
        "    \"\"\"\n",
        "    fig, axes = plt.subplots(3, 3, figsize=(9, 9))\n",
        "    fig.subplots_adjust(hspace=0.3, wspace=0.3)\n",
        "    for i, ax in enumerate(axes.flat):\n",
        "        # Plot image.\n",
        "        ax.imshow(np.squeeze(images[i]), cmap='binary')\n",
        "\n",
        "        # Show true and predicted classes.\n",
        "        if cls_pred is None:\n",
        "            ax_title = \"True: {0}\".format(cls_true[i])\n",
        "        else:\n",
        "            ax_title = \"True: {0}, Pred: {1}\".format(cls_true[i], cls_pred[i])\n",
        "\n",
        "        ax.set_title(ax_title)\n",
        "\n",
        "        # Remove ticks from the plot.\n",
        "        ax.set_xticks([])\n",
        "        ax.set_yticks([])\n",
        "\n",
        "    if title:\n",
        "        plt.suptitle(title, size=20)\n",
        "    plt.show(block=False)"
      ],
      "execution_count": 0,
      "outputs": []
    },
    {
      "cell_type": "code",
      "metadata": {
        "id": "mJjLEs1QvKm_",
        "colab_type": "code",
        "colab": {}
      },
      "source": [
        "def plot_example_errors(images, cls_true, cls_pred, title=None):\n",
        "    \"\"\"\n",
        "    Function for plotting examples of images that have been mis-classified\n",
        "    :param images: array of all images, (#imgs, img_h*img_w)\n",
        "    :param cls_true: corresponding true labels, (#imgs,)\n",
        "    :param cls_pred: corresponding predicted labels, (#imgs,)\n",
        "    \"\"\"\n",
        "    # Negate the boolean array.\n",
        "    incorrect = np.logical_not(np.equal(cls_pred, cls_true))\n",
        "\n",
        "    # Get the images from the test-set that have been\n",
        "    # incorrectly classified.\n",
        "    incorrect_images = images[incorrect]\n",
        "\n",
        "    # Get the true and predicted classes for those images.\n",
        "    cls_pred = cls_pred[incorrect]\n",
        "    cls_true = cls_true[incorrect]\n",
        "\n",
        "    # Plot the first 9 images.\n",
        "    plot_images(images=incorrect_images[0:9],\n",
        "                cls_true=cls_true[0:9],\n",
        "                cls_pred=cls_pred[0:9],\n",
        "                title=title)"
      ],
      "execution_count": 0,
      "outputs": []
    },
    {
      "cell_type": "code",
      "metadata": {
        "id": "rHMwkJ3HvNCr",
        "colab_type": "code",
        "colab": {
          "base_uri": "https://localhost:8080/",
          "height": 1000
        },
        "outputId": "07eaa042-ca22-4446-8a9a-1a5b487d39d9"
      },
      "source": [
        "# Test the network when training is done\n",
        "x_test, y_test = load_data(mode='test')\n",
        "feed_dict_test = {x: x_test, y: y_test}\n",
        "loss_test, acc_test = sess.run([loss, accuracy], feed_dict=feed_dict_test)\n",
        "print('---------------------------------------------------------')\n",
        "print(\"Test loss: {0:.2f}, test accuracy: {1:.01%}\".format(loss_test, acc_test))\n",
        "print('---------------------------------------------------------')\n",
        "\n",
        "# Plot some of the correct and misclassified examples\n",
        "cls_pred = sess.run(cls_prediction, feed_dict=feed_dict_test)\n",
        "cls_true = np.argmax(y_test, axis=1)\n",
        "plot_images(x_test, cls_true, cls_pred, title='Correct Examples')\n",
        "plot_example_errors(x_test, cls_true, cls_pred, title='Misclassified Examples')\n",
        "plt.show()"
      ],
      "execution_count": 28,
      "outputs": [
        {
          "output_type": "stream",
          "text": [
            "Extracting MNIST_data/train-images-idx3-ubyte.gz\n",
            "Extracting MNIST_data/train-labels-idx1-ubyte.gz\n",
            "Extracting MNIST_data/t10k-images-idx3-ubyte.gz\n",
            "Extracting MNIST_data/t10k-labels-idx1-ubyte.gz\n",
            "---------------------------------------------------------\n",
            "Test loss: 0.03, test accuracy: 99.1%\n",
            "---------------------------------------------------------\n"
          ],
          "name": "stdout"
        },
        {
          "output_type": "display_data",
          "data": {
            "image/png": "[encoded data removed]",
            "text/plain": [
              "<Figure size 648x648 with 9 Axes>"
            ]
          },
          "metadata": {
            "tags": []
          }
        },
        {
          "output_type": "display_data",
          "data": {
            "image/png": "[encoded data removed]",
            "text/plain": [
              "<Figure size 648x648 with 9 Axes>"
            ]
          },
          "metadata": {
            "tags": []
          }
        }
      ]
    },
    {
      "cell_type": "code",
      "metadata": {
        "id": "YluJKHWdvQsx",
        "colab_type": "code",
        "colab": {}
      },
      "source": [
        "sess.close()"
      ],
      "execution_count": 0,
      "outputs": []
    },
    {
      "cell_type": "code",
      "metadata": {
        "id": "vebXOdupvdcQ",
        "colab_type": "code",
        "colab": {}
      },
      "source": [
        ""
      ],
      "execution_count": 0,
      "outputs": []
    }
  ]
}